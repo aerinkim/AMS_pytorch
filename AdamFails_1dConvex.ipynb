{
 "cells": [
  {
   "cell_type": "markdown",
   "metadata": {},
   "source": [
    "# AMS paper claims that...\n",
    "\n",
    "ADAM iterates $x_t$ converge to x = 1, which unfortunately has the largest regret amongst all points in the domain. On the other hand, the average regret of AMSGRAD converges to 0 and its iterate converges to the optimal solution."
   ]
  },
  {
   "cell_type": "markdown",
   "metadata": {},
   "source": [
    "\\begin{equation}\n",
    "  f_t(x)=\\begin{cases}\n",
    "    1010x, & \\text{with probability 0.01}\\\\\n",
    "    -10x, & \\text{otherwise}.\n",
    "  \\end{cases}\n",
    "\\end{equation}\n",
    "\n",
    "where $x=[-1, 1]$.\n"
   ]
  },
  {
   "cell_type": "markdown",
   "metadata": {},
   "source": [
    "Lets verify if it's true."
   ]
  },
  {
   "cell_type": "code",
   "execution_count": 154,
   "metadata": {
    "collapsed": true
   },
   "outputs": [],
   "source": [
    "import torch\n",
    "import numpy as np\n",
    "import matplotlib.pylab as plt\n",
    "from torch.autograd import Variable\n",
    "import torch.nn.functional as F\n",
    "import matplotlib.pyplot as plt"
   ]
  },
  {
   "cell_type": "markdown",
   "metadata": {},
   "source": [
    "# First, Let's implement ADAM from scratch\n"
   ]
  },
  {
   "cell_type": "code",
   "execution_count": 168,
   "metadata": {
    "collapsed": true
   },
   "outputs": [],
   "source": [
    "import math\n",
    "from torch.optim import Optimizer\n",
    "\n",
    "class ADAMOptimizer(Optimizer):\n",
    "    \"\"\"\n",
    "    implements ADAM Algorithm, as a preceding step.\n",
    "    \"\"\"\n",
    "    def __init__(self, params, lr=1e-3, betas=(0.9, 0.99), eps=1e-8, weight_decay=0):\n",
    "        defaults = dict(lr=lr, betas=betas, eps=eps, weight_decay=weight_decay)\n",
    "        super(ADAMOptimizer, self).__init__(params, defaults)\n",
    "        \n",
    "    def step(self):\n",
    "        \"\"\"\n",
    "        Performs a single optimization step.\n",
    "        \"\"\"\n",
    "        loss = None\n",
    "        for group in self.param_groups:\n",
    "            #print (self.param_groups[0]['params'][0].size()), First param (W) size: torch.Size([10, 784])\n",
    "            #print (self.param_groups[0]['params'][1].size()), Second param(b) size: torch.Size([10])\n",
    "            for p in group['params']:\n",
    "                grad = p.grad.data\n",
    "                state = self.state[p]\n",
    "\n",
    "                # State initialization\n",
    "                if len(state) == 0:\n",
    "                    state['step'] = 0\n",
    "                    # Momentum (Exponential MA of gradients)\n",
    "                    state['exp_avg'] = torch.zeros_like(p.data)\n",
    "                    #print(p.data.size())\n",
    "                    # RMS Prop componenet. (Exponential MA of squared gradients). Denominator.\n",
    "                    state['exp_avg_sq'] = torch.zeros_like(p.data)\n",
    "                    \n",
    "                exp_avg, exp_avg_sq = state['exp_avg'], state['exp_avg_sq']\n",
    "\n",
    "                b1, b2 = group['betas']\n",
    "                state['step'] += 1\n",
    "                \n",
    "                # L2 penalty. Gotta add to Gradient as well.\n",
    "                if group['weight_decay'] != 0:\n",
    "                    grad = grad.add(group['weight_decay'], p.data)\n",
    "\n",
    "                # Momentum\n",
    "                exp_avg = torch.mul(exp_avg, b1) + (1 - b1)*grad\n",
    "                # RMS\n",
    "                exp_avg_sq = torch.mul(exp_avg_sq, b2) + (1-b2)*(grad*grad)\n",
    "                \n",
    "                denom = exp_avg_sq.sqrt() + group['eps']\n",
    "\n",
    "                bias_correction1 = 1 / (1 - b1 ** state['step'])\n",
    "                bias_correction2 = 1 / (1 - b2 ** state['step'])\n",
    "                \n",
    "                adapted_learning_rate = group['lr'] * bias_correction1 / math.sqrt(bias_correction2)\n",
    "\n",
    "                p.data = p.data - adapted_learning_rate * exp_avg / denom \n",
    "                \n",
    "                if state['step']  % 10000 ==0:\n",
    "                    print (\"group:\", group)\n",
    "                    print(\"p: \",p)\n",
    "                    print(\"p.data: \", p.data) # W = p.data\n",
    "                \n",
    "        return loss\n"
   ]
  },
  {
   "cell_type": "code",
   "execution_count": null,
   "metadata": {
    "collapsed": true
   },
   "outputs": [],
   "source": []
  },
  {
   "cell_type": "markdown",
   "metadata": {},
   "source": [
    "# Second, Implement AMS on top of ADAM"
   ]
  },
  {
   "cell_type": "code",
   "execution_count": null,
   "metadata": {
    "collapsed": true
   },
   "outputs": [],
   "source": []
  },
  {
   "cell_type": "code",
   "execution_count": null,
   "metadata": {
    "collapsed": true
   },
   "outputs": [],
   "source": []
  },
  {
   "cell_type": "markdown",
   "metadata": {},
   "source": [
    "# Testing both ADAM & AMS on simple Logistic Regression"
   ]
  },
  {
   "cell_type": "code",
   "execution_count": 190,
   "metadata": {},
   "outputs": [],
   "source": [
    "import torch\n",
    "import torch.nn as nn\n",
    "import torchvision\n",
    "import torchvision.transforms as transforms\n",
    "\n",
    "# Hyper-parameters as stated in the paper - https://openreview.net/forum?id=ryQu7f-RZ\n",
    "input_size = 784\n",
    "num_classes = 10\n",
    "num_epochs = 5\n",
    "batch_size = 128\n",
    "learning_rate = 0.001\n",
    "\n",
    "# MNIST dataset (images and labels)\n",
    "train_dataset = torchvision.datasets.MNIST(root='../../data', \n",
    "                                           train=True, \n",
    "                                           transform=transforms.ToTensor(),\n",
    "                                           download=True)\n",
    "\n",
    "test_dataset = torchvision.datasets.MNIST(root='../../data', \n",
    "                                          train=False, \n",
    "                                          transform=transforms.ToTensor())\n",
    "\n",
    "# Data loader (input pipeline)\n",
    "train_loader = torch.utils.data.DataLoader(dataset=train_dataset, \n",
    "                                           batch_size=batch_size, \n",
    "                                           shuffle=True)\n",
    "\n",
    "test_loader = torch.utils.data.DataLoader(dataset=test_dataset, \n",
    "                                          batch_size=batch_size, \n",
    "                                          shuffle=False)\n",
    "\n",
    "# Logistic regression model\n",
    "model = nn.Linear(input_size, num_classes)\n",
    "\n",
    "# Loss: nn.CrossEntropyLoss() computes softmax internally\n",
    "criterion = nn.CrossEntropyLoss()  \n",
    "\n",
    "# Adam\n",
    "optimizer = ADAMOptimizer(model.parameters(), lr=learning_rate)  \n",
    "#optimizer = torch.optim.Adam(model.parameters(), lr=1e-3, betas=(0.9, 0.99), eps=1e-8, weight_decay=0) # To double check the implementation"
   ]
  },
  {
   "cell_type": "code",
   "execution_count": null,
   "metadata": {
    "collapsed": true
   },
   "outputs": [],
   "source": []
  },
  {
   "cell_type": "code",
   "execution_count": 191,
   "metadata": {},
   "outputs": [
    {
     "data": {
      "text/plain": [
       "<bound method Module.parameters of Linear(in_features=784, out_features=10, bias=True)>"
      ]
     },
     "execution_count": 191,
     "metadata": {},
     "output_type": "execute_result"
    }
   ],
   "source": [
    "model.parameters"
   ]
  },
  {
   "cell_type": "code",
   "execution_count": 192,
   "metadata": {},
   "outputs": [
    {
     "data": {
      "text/plain": [
       "469"
      ]
     },
     "execution_count": 192,
     "metadata": {},
     "output_type": "execute_result"
    }
   ],
   "source": [
    "len(train_loader)"
   ]
  },
  {
   "cell_type": "code",
   "execution_count": 193,
   "metadata": {
    "scrolled": true
   },
   "outputs": [
    {
     "name": "stdout",
     "output_type": "stream",
     "text": [
      "Epoch [1/5], Step [1/469], Loss: 2.3241\n",
      "Epoch [1/5], Step [101/469], Loss: 0.8930\n",
      "Epoch [1/5], Step [201/469], Loss: 0.4822\n",
      "Epoch [1/5], Step [301/469], Loss: 0.4837\n",
      "Epoch [1/5], Step [401/469], Loss: 0.3685\n",
      "Epoch [2/5], Step [1/469], Loss: 0.4409\n",
      "Epoch [2/5], Step [101/469], Loss: 0.4088\n",
      "Epoch [2/5], Step [201/469], Loss: 0.4610\n",
      "Epoch [2/5], Step [301/469], Loss: 0.3673\n",
      "Epoch [2/5], Step [401/469], Loss: 0.2353\n",
      "Epoch [3/5], Step [1/469], Loss: 0.4252\n",
      "Epoch [3/5], Step [101/469], Loss: 0.3476\n",
      "Epoch [3/5], Step [201/469], Loss: 0.5284\n",
      "Epoch [3/5], Step [301/469], Loss: 0.4335\n",
      "Epoch [3/5], Step [401/469], Loss: 0.2737\n",
      "Epoch [4/5], Step [1/469], Loss: 0.3128\n",
      "Epoch [4/5], Step [101/469], Loss: 0.3986\n",
      "Epoch [4/5], Step [201/469], Loss: 0.2595\n",
      "Epoch [4/5], Step [301/469], Loss: 0.3329\n",
      "Epoch [4/5], Step [401/469], Loss: 0.2046\n",
      "Epoch [5/5], Step [1/469], Loss: 0.5740\n",
      "Epoch [5/5], Step [101/469], Loss: 0.4283\n",
      "Epoch [5/5], Step [201/469], Loss: 0.3684\n",
      "Epoch [5/5], Step [301/469], Loss: 0.6881\n",
      "Epoch [5/5], Step [401/469], Loss: 0.2965\n"
     ]
    }
   ],
   "source": [
    "# Train the model\n",
    "\n",
    "total_step = len(train_loader)\n",
    "adam_loss_list = []\n",
    "\n",
    "for epoch in range(num_epochs):\n",
    "    for batch_idx, (images, labels) in enumerate(train_loader):\n",
    "        # Reshape images to (batch_size, input_size)\n",
    "        images = images.reshape(-1, 28*28)\n",
    "        # Forward pass\n",
    "        outputs = model(images)\n",
    "\n",
    "        loss = criterion(outputs, labels)\n",
    "        adam_loss_list.append(loss)\n",
    "        \n",
    "        optimizer.zero_grad()\n",
    "        loss.backward()\n",
    "        optimizer.step()\n",
    "        \n",
    "        if batch_idx % 100 == 0:\n",
    "            print ('Epoch [{}/{}], Step [{}/{}], Loss: {:.4f}' \n",
    "                   .format(epoch+1, num_epochs, batch_idx+1, total_step, loss.item()))\n"
   ]
  },
  {
   "cell_type": "code",
   "execution_count": null,
   "metadata": {
    "collapsed": true
   },
   "outputs": [],
   "source": []
  },
  {
   "cell_type": "code",
   "execution_count": 189,
   "metadata": {},
   "outputs": [
    {
     "data": {
      "image/png": "[encoded data removed]",
      "text/plain": [
       "<matplotlib.figure.Figure at 0x2e5c1d326a0>"
      ]
     },
     "metadata": {},
     "output_type": "display_data"
    }
   ],
   "source": [
    "plt.plot(adam_loss_list, label=\"adam\")\n",
    "#plt.plot(results_amsgrad, label=\"amsgrad\")\n",
    "plt.legend(bbox_to_anchor=(0.8, 0.9), loc=2, borderaxespad=0.)\n",
    "#plt.savefig(\"fig1.png\")\n",
    "plt.show()"
   ]
  },
  {
   "cell_type": "code",
   "execution_count": 161,
   "metadata": {},
   "outputs": [
    {
     "name": "stdout",
     "output_type": "stream",
     "text": [
      "Accuracy of the model on the 10000 test images: 91 %\n"
     ]
    }
   ],
   "source": [
    "# Test the model\n",
    "# In test phase, we don't need to compute gradients (for memory efficiency)\n",
    "with torch.no_grad():\n",
    "    correct = 0\n",
    "    total = 0\n",
    "    for images, labels in test_loader:\n",
    "        images = images.reshape(-1, 28*28)\n",
    "        outputs = model(images)\n",
    "        _, predicted = torch.max(outputs.data, 1)\n",
    "        total += labels.size(0)\n",
    "        correct += (predicted == labels).sum()\n",
    "\n",
    "    print('Accuracy of the model on the 10000 test images: {} %'.format(100 * correct / total))\n",
    "\n",
    "# Save the model checkpoint\n",
    "torch.save(model.state_dict(), 'model.ckpt')"
   ]
  },
  {
   "cell_type": "code",
   "execution_count": null,
   "metadata": {
    "collapsed": true
   },
   "outputs": [],
   "source": []
  },
  {
   "cell_type": "code",
   "execution_count": null,
   "metadata": {
    "collapsed": true
   },
   "outputs": [],
   "source": []
  },
  {
   "cell_type": "code",
   "execution_count": null,
   "metadata": {
    "collapsed": true
   },
   "outputs": [],
   "source": []
  },
  {
   "cell_type": "code",
   "execution_count": null,
   "metadata": {
    "collapsed": true
   },
   "outputs": [],
   "source": []
  },
  {
   "cell_type": "markdown",
   "metadata": {},
   "source": [
    "# Testing on Synthetic experiment"
   ]
  },
  {
   "cell_type": "code",
   "execution_count": 39,
   "metadata": {},
   "outputs": [],
   "source": [
    "x_max = Variable(torch.Tensor([1.0]), requires_grad=True)\n",
    "x_min = Variable(torch.Tensor([-1.0]), requires_grad=True)\n",
    "\n",
    "def online_f_t(x, t):\n",
    "    if t % 101 == 1:\n",
    "        return 1010.0*x\n",
    "    else:\n",
    "        return -10.0*x\n",
    "    \n",
    "def f_min(t):\n",
    "    if t % 101 == 1:\n",
    "        return -1010.0\n",
    "    else:\n",
    "        return 10.0\n",
    "\n",
    "def domain_constraints(x):\n",
    "    if x > 1.0:\n",
    "        return x_max\n",
    "    if x < -1.0:\n",
    "        return x_min\n",
    "    return x\n",
    "\n",
    "\n",
    "def OnlineLearning(learning_rate=1e-3, amsgrad=False):\n",
    "    x = Variable(torch.Tensor([0.5]), requires_grad=True)\n",
    "    optimizer = ADAMOptimizer([x], lr=learning_rate, betas=(0.9, 0.99), eps=1e-8)\n",
    "\n",
    "    regret_sum = 0\n",
    "    time_steps = []\n",
    "    avg_regret_history = []\n",
    "    x_history = []\n",
    "\n",
    "    for step in range(1,1000001):\n",
    "        x = domain_constraints(x)\n",
    "        loss = online_f_t(x, step)\n",
    "        # This is how the regret is defined in this paper.\n",
    "        regret_sum += (loss.item() - f_min(step))\n",
    "        regret_avg = regret_sum/step\n",
    "    \n",
    "        optimizer.zero_grad()\n",
    "        # calculate gradients\n",
    "        loss.backward()\n",
    "        \"\"\"\n",
    "        if step%10000 == 0:\n",
    "            time_steps.append(step)\n",
    "            avg_regret_history.append(regret_avg)\n",
    "            x_history.append(x.item())\n",
    "            print ('step : ',step,  '  x : ',x, '  loss : ',loss, '   regret_sum : ',regret_sum, ' regret_avg : ',regret_avg )\n",
    "            print (x.grad)\n",
    "        \"\"\"\n",
    "        optimizer.step()   \n",
    "    return time_steps, avg_regret_history, x_history\n"
   ]
  },
  {
   "cell_type": "code",
   "execution_count": 40,
   "metadata": {
    "scrolled": true
   },
   "outputs": [
    {
     "name": "stdout",
     "output_type": "stream",
     "text": [
      "group: {'params': [tensor([ 1.0365])], 'lr': 0.1, 'betas': (0.9, 0.99), 'eps': 1e-08, 'weight_decay': 0}\n",
      "p:  tensor([ 1.0365])\n",
      "p.data:  tensor([ 1.0365])\n",
      "group: {'params': [tensor([ 1.0365])], 'lr': 0.1, 'betas': (0.9, 0.99), 'eps': 1e-08, 'weight_decay': 0}\n",
      "p:  tensor([ 1.0365])\n",
      "p.data:  tensor([ 1.0365])\n",
      "group: {'params': [tensor([ 1.0365])], 'lr': 0.1, 'betas': (0.9, 0.99), 'eps': 1e-08, 'weight_decay': 0}\n",
      "p:  tensor([ 1.0365])\n",
      "p.data:  tensor([ 1.0365])\n",
      "group: {'params': [tensor([ 1.0365])], 'lr': 0.1, 'betas': (0.9, 0.99), 'eps': 1e-08, 'weight_decay': 0}\n",
      "p:  tensor([ 1.0365])\n",
      "p.data:  tensor([ 1.0365])\n",
      "group: {'params': [tensor([ 1.0365])], 'lr': 0.1, 'betas': (0.9, 0.99), 'eps': 1e-08, 'weight_decay': 0}\n",
      "p:  tensor([ 1.0365])\n",
      "p.data:  tensor([ 1.0365])\n",
      "group: {'params': [tensor([ 1.0365])], 'lr': 0.1, 'betas': (0.9, 0.99), 'eps': 1e-08, 'weight_decay': 0}\n",
      "p:  tensor([ 1.0365])\n",
      "p.data:  tensor([ 1.0365])\n",
      "group: {'params': [tensor([ 1.0365])], 'lr': 0.1, 'betas': (0.9, 0.99), 'eps': 1e-08, 'weight_decay': 0}\n",
      "p:  tensor([ 1.0365])\n",
      "p.data:  tensor([ 1.0365])\n",
      "group: {'params': [tensor([ 1.0365])], 'lr': 0.1, 'betas': (0.9, 0.99), 'eps': 1e-08, 'weight_decay': 0}\n",
      "p:  tensor([ 1.0365])\n",
      "p.data:  tensor([ 1.0365])\n"
     ]
    },
    {
     "ename": "KeyboardInterrupt",
     "evalue": "",
     "output_type": "error",
     "traceback": [
      "\u001b[1;31m---------------------------------------------------------------------------\u001b[0m",
      "\u001b[1;31mKeyboardInterrupt\u001b[0m                         Traceback (most recent call last)",
      "\u001b[1;32m<ipython-input-40-cbef92e01a8a>\u001b[0m in \u001b[0;36m<module>\u001b[1;34m()\u001b[0m\n\u001b[0;32m      1\u001b[0m \u001b[0mlr\u001b[0m \u001b[1;33m=\u001b[0m \u001b[1;36m1e-1\u001b[0m\u001b[1;33m\u001b[0m\u001b[0m\n\u001b[0;32m      2\u001b[0m \u001b[1;31m# AMSGrad\u001b[0m\u001b[1;33m\u001b[0m\u001b[1;33m\u001b[0m\u001b[0m\n\u001b[1;32m----> 3\u001b[1;33m \u001b[0mtime_steps\u001b[0m\u001b[1;33m,\u001b[0m \u001b[0mavg_regret_history\u001b[0m\u001b[1;33m,\u001b[0m \u001b[0mx_history\u001b[0m \u001b[1;33m=\u001b[0m \u001b[0mOnlineLearning\u001b[0m\u001b[1;33m(\u001b[0m\u001b[0mlearning_rate\u001b[0m\u001b[1;33m=\u001b[0m\u001b[0mlr\u001b[0m\u001b[1;33m)\u001b[0m\u001b[1;33m\u001b[0m\u001b[0m\n\u001b[0m",
      "\u001b[1;32m<ipython-input-39-50ae60c4aa0d>\u001b[0m in \u001b[0;36mOnlineLearning\u001b[1;34m(learning_rate, amsgrad)\u001b[0m\n\u001b[0;32m     40\u001b[0m         \u001b[0moptimizer\u001b[0m\u001b[1;33m.\u001b[0m\u001b[0mzero_grad\u001b[0m\u001b[1;33m(\u001b[0m\u001b[1;33m)\u001b[0m\u001b[1;33m\u001b[0m\u001b[0m\n\u001b[0;32m     41\u001b[0m         \u001b[1;31m# calculate gradients\u001b[0m\u001b[1;33m\u001b[0m\u001b[1;33m\u001b[0m\u001b[0m\n\u001b[1;32m---> 42\u001b[1;33m         \u001b[0mloss\u001b[0m\u001b[1;33m.\u001b[0m\u001b[0mbackward\u001b[0m\u001b[1;33m(\u001b[0m\u001b[1;33m)\u001b[0m\u001b[1;33m\u001b[0m\u001b[0m\n\u001b[0m\u001b[0;32m     43\u001b[0m         \"\"\"\n\u001b[0;32m     44\u001b[0m         \u001b[1;32mif\u001b[0m \u001b[0mstep\u001b[0m\u001b[1;33m%\u001b[0m\u001b[1;36m10000\u001b[0m \u001b[1;33m==\u001b[0m \u001b[1;36m0\u001b[0m\u001b[1;33m:\u001b[0m\u001b[1;33m\u001b[0m\u001b[0m\n",
      "\u001b[1;32m~\\AppData\\Local\\Continuum\\anaconda3\\lib\\site-packages\\torch\\tensor.py\u001b[0m in \u001b[0;36mbackward\u001b[1;34m(self, gradient, retain_graph, create_graph)\u001b[0m\n\u001b[0;32m     91\u001b[0m                 \u001b[0mproducts\u001b[0m\u001b[1;33m.\u001b[0m \u001b[0mDefaults\u001b[0m \u001b[0mto\u001b[0m\u001b[0;31m \u001b[0m\u001b[0;31m`\u001b[0m\u001b[0;31m`\u001b[0m\u001b[1;32mFalse\u001b[0m\u001b[0;31m`\u001b[0m\u001b[0;31m`\u001b[0m\u001b[1;33m.\u001b[0m\u001b[1;33m\u001b[0m\u001b[0m\n\u001b[0;32m     92\u001b[0m         \"\"\"\n\u001b[1;32m---> 93\u001b[1;33m         \u001b[0mtorch\u001b[0m\u001b[1;33m.\u001b[0m\u001b[0mautograd\u001b[0m\u001b[1;33m.\u001b[0m\u001b[0mbackward\u001b[0m\u001b[1;33m(\u001b[0m\u001b[0mself\u001b[0m\u001b[1;33m,\u001b[0m \u001b[0mgradient\u001b[0m\u001b[1;33m,\u001b[0m \u001b[0mretain_graph\u001b[0m\u001b[1;33m,\u001b[0m \u001b[0mcreate_graph\u001b[0m\u001b[1;33m)\u001b[0m\u001b[1;33m\u001b[0m\u001b[0m\n\u001b[0m\u001b[0;32m     94\u001b[0m \u001b[1;33m\u001b[0m\u001b[0m\n\u001b[0;32m     95\u001b[0m     \u001b[1;32mdef\u001b[0m \u001b[0mregister_hook\u001b[0m\u001b[1;33m(\u001b[0m\u001b[0mself\u001b[0m\u001b[1;33m,\u001b[0m \u001b[0mhook\u001b[0m\u001b[1;33m)\u001b[0m\u001b[1;33m:\u001b[0m\u001b[1;33m\u001b[0m\u001b[0m\n",
      "\u001b[1;32m~\\AppData\\Local\\Continuum\\anaconda3\\lib\\site-packages\\torch\\autograd\\__init__.py\u001b[0m in \u001b[0;36mbackward\u001b[1;34m(tensors, grad_tensors, retain_graph, create_graph, grad_variables)\u001b[0m\n\u001b[0;32m     87\u001b[0m     Variable._execution_engine.run_backward(\n\u001b[0;32m     88\u001b[0m         \u001b[0mtensors\u001b[0m\u001b[1;33m,\u001b[0m \u001b[0mgrad_tensors\u001b[0m\u001b[1;33m,\u001b[0m \u001b[0mretain_graph\u001b[0m\u001b[1;33m,\u001b[0m \u001b[0mcreate_graph\u001b[0m\u001b[1;33m,\u001b[0m\u001b[1;33m\u001b[0m\u001b[0m\n\u001b[1;32m---> 89\u001b[1;33m         allow_unreachable=True)  # allow_unreachable flag\n\u001b[0m\u001b[0;32m     90\u001b[0m \u001b[1;33m\u001b[0m\u001b[0m\n\u001b[0;32m     91\u001b[0m \u001b[1;33m\u001b[0m\u001b[0m\n",
      "\u001b[1;31mKeyboardInterrupt\u001b[0m: "
     ]
    }
   ],
   "source": [
    "lr = 1e-1\n",
    "# AMSGrad\n",
    "time_steps, avg_regret_history, x_history = OnlineLearning(learning_rate=lr)\n"
   ]
  },
  {
   "cell_type": "code",
   "execution_count": null,
   "metadata": {
    "collapsed": true
   },
   "outputs": [],
   "source": []
  },
  {
   "cell_type": "code",
   "execution_count": null,
   "metadata": {
    "collapsed": true
   },
   "outputs": [],
   "source": []
  },
  {
   "cell_type": "code",
   "execution_count": null,
   "metadata": {
    "collapsed": true
   },
   "outputs": [],
   "source": []
  },
  {
   "cell_type": "code",
   "execution_count": null,
   "metadata": {
    "collapsed": true
   },
   "outputs": [],
   "source": []
  }
 ],
 "metadata": {
  "kernelspec": {
   "display_name": "Python 3",
   "language": "python",
   "name": "python3"
  },
  "language_info": {
   "codemirror_mode": {
    "name": "ipython",
    "version": 3
   },
   "file_extension": ".py",
   "mimetype": "text/x-python",
   "name": "python",
   "nbconvert_exporter": "python",
   "pygments_lexer": "ipython3",
   "version": "3.6.3"
  }
 },
 "nbformat": 4,
 "nbformat_minor": 2
}
